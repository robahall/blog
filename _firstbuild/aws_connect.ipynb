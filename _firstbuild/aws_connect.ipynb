{
 "cells": [
  {
   "cell_type": "markdown",
   "source": [
    ".. _AWS Connect:"
   ],
   "metadata": {
    "collapsed": false
   }
  },
  {
   "cell_type": "markdown",
   "source": [
    "AWS Connect\n",
    "--------------\n"
   ],
   "metadata": {
    "collapsed": false
   }
  },
  {
   "cell_type": "markdown",
   "source": [
    "Initial steps to set up a Jupyter notebook using AWS. \n",
    "\n",
    "Note: Anything in <Name> means you can fill in with whatever name you please. \n"
   ],
   "metadata": {
    "collapsed": false
   }
  },
  {
   "cell_type": "markdown",
   "source": [
    "## Create VPC for your notebooks\n",
    "\n",
    "1) Navigate to VPC in dashboard: \n",
    "*   You can search for VPC or find it under Networking & Content Delivery\n",
    "\n",
    "2) This brings you to VPC Dashboard: \n",
    "\n",
    "![VPC Dashboard](../_static/images/vpc_dashboard.png)\n",
    "\n",
    "3) Click `Your VPCs` and then `Create VPC`. \n",
    "\n",
    "4) In `Create VPC` you will need to fill in: \n",
    "\n",
    "![Create VPC](../_static/images/create_vpc.png)\n",
    "\n",
    "Name: <VPC_Name>\n",
    "\n",
    "IPv4: 10.0.0.0/24\n",
    "\n",
    "IPv6: None\n",
    "\n",
    "Tenancy: Default\n"
   ],
   "metadata": {
    "collapsed": false
   }
  },
  {
   "cell_type": "markdown",
   "source": [
    "## Create Internet Gateway\n",
    "\n",
    "1) Navigate in left menu to `Internet Gateways`\n",
    "\n",
    "2) Create Internet Gateway\n",
    "\n",
    "3) Enter:\n",
    "*   Name: <IG_Name>\n",
    "\n",
    "4)  Navigate to actions:\n",
    "*   Attach to VPC: <VPC_Name>"
   ],
   "metadata": {
    "collapsed": false,
    "pycharm": {
     "name": "#%% md\n"
    }
   }
  },
  {
   "cell_type": "markdown",
   "source": [
    "## Create Routing Table\n",
    "\n",
    "1) Navigate in left menu to `Route Tables`\n",
    "\n",
    "2) Create route table\n",
    "\n",
    "3) Enter:\n",
    "*   Name: <RT_Name>\n",
    "*   VPC: Attach <VPC_Name>\n",
    "\n",
    "4) Navigate to actions and select edit routes:\n",
    "*  Destination: 0.0.0.0/0\n",
    "*  Target: <IG_Name>"
   ],
   "metadata": {
    "collapsed": false,
    "pycharm": {
     "name": "#%% md\n"
    }
   }
  },
  {
   "cell_type": "markdown",
   "source": [
    "## Create subnet\n",
    "\n",
    "1) Navigate in left menu to `Subnets`\n",
    "\n",
    "2) Create New Subnet\n",
    "\n",
    "3) ENter:\n",
    "*   Name: <VPC_sn1>\n",
    "*   VPC: <VPC_Name>\n",
    "*   Availability Zone: No preference\n",
    "*   IPv4: 10.0.0.0/24\n",
    "\n",
    "4) Navigate to actions and select Edit Route Table Associations:\n",
    "*   Route Table ID: <RT_Name>\n",
    "\n",
    "5) Navigate to actions and select Modify auto-assign IP settings:\n",
    "*   Select auto-assign IPv4. Enable auto-assign public IPv4 address"
   ],
   "metadata": {
    "collapsed": false,
    "pycharm": {
     "name": "#%% md\n"
    }
   }
  },
  {
   "cell_type": "markdown",
   "source": [
    "## Set up Security Groups\n",
    "\n",
    "1) Navigate in left menu to `Security` -> `Security Groups`:\n",
    "\n",
    "![Nav to Security Group](../_static/images/create_SG.png)\n",
    "\n",
    "2) Fill in Security group name, description and connect it to your VPC you created before: \n",
    "\n",
    "![Create Security Group](../_static/images/create_SG_2.png)\n",
    "\n",
    "3) Navigate to Inbound Rules and Edit Rules:\n",
    "Add these rules:\n",
    "*   SSH/TCP/22/Anywhere/ 0.0.0.0/0\n",
    "\n",
    "*   HTTPS/TCP/443/Anywhere/ 0.0.0.0/0\n",
    "\n",
    "*   Custom TCP/TCP/8888/Anywhere/ 0.0.0.0/0"
   ],
   "metadata": {
    "collapsed": false
   }
  },
  {
   "cell_type": "markdown",
   "source": [
    "## Launch EC2 instance\n",
    "\n",
    "1) Navigate to EC2\n",
    "\n",
    "2) Click `Launch Instance`\n",
    "\n",
    "3) Select UbuntuServer 18\n",
    "\n",
    "4) Select t2.micro \n",
    "*   Note: You will most likely not be using t2.micros. For GPUs you will need to send a request to AWS to enable P2s for you. \n",
    "\n",
    "5) Configure Instance Details:\n",
    "\n",
    "*   Number of instances: 1\n",
    "\n",
    "*   Network: <VPC_Name>\n",
    "\n",
    "*   Subnet: <Subnet_Name>\n",
    "\n",
    "*   Auto-assign Public IP: Enable (I've had trouble with it not assigning public IPs here so automatically enable regardless of set up in Subnet. \n",
    "\n",
    "6) Add storage:\n",
    "\n",
    "*   For this tutorial leave as is\n",
    "\n",
    "7)  Configure Security Group:\n",
    "\n",
    "*   Select an existing security group\n",
    "*   Security group name: <SG_Name>\n",
    "\n",
    "8) Review and launch:\n",
    " \n",
    "9) Create new key\n",
    "*   Download Key"
   ],
   "metadata": {
    "collapsed": false,
    "pycharm": {
     "name": "#%% md\n",
     "is_executing": false
    }
   }
  },
  {
   "cell_type": "markdown",
   "source": [
    "## Instance Spins Up\n",
    "\n",
    "While the instance is spinning up feel free to move your new key to the .ssh directory (if using Linux)\n",
    "\n",
    "`cd ~/.ssh`\n",
    "`mv ~/Downloads/<key_name>.pem <key_name>.pem`\n",
    "`chmod 400 <key_name>.pem`\n"
   ],
   "metadata": {
    "collapsed": false,
    "pycharm": {
     "name": "#%% md\n",
     "is_executing": false
    }
   }
  },
  {
   "cell_type": "markdown",
   "source": [
    "## Connect to Instance\n",
    "\n",
    "Navigate to Instances and select Connect\n",
    "\n",
    "Copy the provided terminal line to connect. It should look like:\n",
    "\n",
    "Paste into terminal with CTRL+SHIFT+C. Make sure you are still in .ssh directory. \n",
    "\n",
    "Success!"
   ],
   "metadata": {
    "collapsed": false,
    "pycharm": {
     "name": "#%% md\n",
     "is_executing": false
    }
   }
  },
  {
   "cell_type": "markdown",
   "source": [
    "## Install Anaconda\n",
    "\n",
    "1) Ensure ec2 instance is up to date. You will typically see when logging in:\n",
    "\n",
    "FILL IN PIC\n",
    "\n",
    "2) In your browser navigate to: \n",
    "https://repo.continuum.io/archive\n",
    "\n",
    "3) Find the most recent Anaconda3 distro for Linux_x86_64 and copy the address of the file\n",
    "\n",
    "4) In your terminal connection to the ec2 instance type:\n",
    "`wget <Anaconda3_whatever_Linux_x86_64.sh>`\n",
    "\n",
    "5) Type: `bash <Anaconda3_whatever_Linux_x86_64.sh>`\n",
    "\n",
    "6) Hit enter multiple times and then when prompted type yes. Then hit enter to confirm location\n",
    "\n",
    "7) When prompted for prepending Anaconda3 to PATH select yes.\n",
    "\n",
    "If not prompted type `export PATH=/home/ubuntu/anaconda3/bin:$PATH` once install is completed. \n",
    "\n",
    "8) Confirm python is anaconda:\n",
    "\n",
    "`which python`\n",
    "\n"
   ],
   "metadata": {
    "collapsed": false,
    "pycharm": {
     "name": "#%% md\n",
     "is_executing": false
    }
   }
  },
  {
   "cell_type": "code",
   "execution_count": 0,
   "outputs": [],
   "source": [],
   "metadata": {
    "collapsed": false,
    "pycharm": {
     "name": "#%%\n",
     "is_executing": false
    }
   }
  },
  {
   "cell_type": "code",
   "execution_count": 0,
   "outputs": [],
   "source": [
    "\n"
   ],
   "metadata": {
    "collapsed": false,
    "pycharm": {
     "name": "#%%\n",
     "is_executing": false
    }
   }
  },
  {
   "cell_type": "code",
   "execution_count": 0,
   "outputs": [],
   "source": [],
   "metadata": {
    "collapsed": false,
    "pycharm": {
     "name": "#%%\n",
     "is_executing": false
    }
   }
  },
  {
   "cell_type": "code",
   "execution_count": 0,
   "outputs": [],
   "source": [],
   "metadata": {
    "collapsed": false,
    "pycharm": {
     "name": "#%%\n",
     "is_executing": false
    }
   }
  },
  {
   "cell_type": "code",
   "execution_count": 0,
   "outputs": [],
   "source": [],
   "metadata": {
    "collapsed": false,
    "pycharm": {
     "name": "#%%\n",
     "is_executing": false
    }
   }
  },
  {
   "cell_type": "code",
   "execution_count": 0,
   "outputs": [],
   "source": [
    "\n"
   ],
   "metadata": {
    "collapsed": false,
    "pycharm": {
     "name": "#%%\n",
     "is_executing": false
    }
   }
  }
 ],
 "metadata": {
  "kernelspec": {
   "display_name": "Python 3",
   "language": "python",
   "name": "python3"
  },
  "language_info": {
   "codemirror_mode": {
    "name": "ipython",
    "version": 2
   },
   "file_extension": ".py",
   "mimetype": "text/x-python",
   "name": "python",
   "nbconvert_exporter": "python",
   "pygments_lexer": "ipython2",
   "version": "2.7.6"
  },
  "pycharm": {
   "stem_cell": {
    "cell_type": "raw",
    "source": [],
    "metadata": {
     "collapsed": false
    }
   }
  }
 },
 "nbformat": 4,
 "nbformat_minor": 0
}
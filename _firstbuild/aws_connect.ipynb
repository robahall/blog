{
 "cells": [
  {
   "cell_type": "markdown",
   "source": [
    ".. _AWS Connect:"
   ],
   "metadata": {
    "collapsed": false
   }
  },
  {
   "cell_type": "markdown",
   "source": [
    "AWS Connect\n",
    "--------------\n"
   ],
   "metadata": {
    "collapsed": false
   }
  },
  {
   "cell_type": "markdown",
   "source": [
    "Initial steps to set up a Jupyter notebook using AWS. \n",
    "\n",
    "Note: Anything in <__> means you can fill in with whatever name you please. \n"
   ],
   "metadata": {
    "collapsed": false
   }
  },
  {
   "cell_type": "markdown",
   "source": [
    "## Create VPC for your notebooks\n",
    "\n",
    "We need to create a virtual private cloud (VPC) for our machine learning instances. It will span all the availability zones in the region. \n",
    "Within the VPC we will need a subnet which is located in an Availability Zone. To connect to it and run a Jupyter notebook we need to set up a route table (think your home router) and internet gateway.\n",
    "\n",
    "\n",
    "1) Navigate to VPC in dashboard: \n",
    "\n",
    "*   You can search for VPC or find it under Networking & Content Delivery\n",
    "\n",
    "2) This brings you to VPC Dashboard: \n",
    "\n",
    "![VPC Dashboard](../_static/images/vpc_dashboard.png)\n",
    "\n",
    "3) Click `Your VPCs` and then `Create VPC`. \n",
    "\n",
    "4) In `Create VPC` you will need to fill in: \n",
    "\n",
    "![Create VPC](../_static/images/create_vpc.png) ## Redo this image. \n",
    "\n",
    "Name tag: \\<VPC_Name\\>\n",
    "\n",
    "IPv4 CIDR block: 10.0.0.0/24\n",
    "\n",
    "IPv6 CIDR block: None\n",
    "\n",
    "Tenancy: Default\n"
   ],
   "metadata": {
    "collapsed": false
   }
  },
  {
   "cell_type": "markdown",
   "source": [
    "## Create Internet Gateway\n",
    "\n",
    "1) Navigate in left menu to `Internet Gateways`\n",
    "\n",
    "2) Create Internet Gateway\n",
    "\n",
    "3) Enter:\n",
    "*   Name: \\<IG_Name\\>\n",
    "\n",
    "4)  Navigate to actions:\n",
    "*   Attach to VPC: \\<VPC_Name\\>"
   ],
   "metadata": {
    "collapsed": false,
    "pycharm": {
     "name": "#%% md\n"
    }
   }
  },
  {
   "cell_type": "markdown",
   "source": [
    "## Create Routing Table\n",
    "\n",
    "1) Navigate in left menu to `Route Tables`\n",
    "\n",
    "2) Create route table\n",
    "\n",
    "3) Enter:\n",
    "*   Name: \\<RT_Name\\>\n",
    "*   VPC: Attach \\<VPC_Name\\>\n",
    "\n",
    "4) Navigate to actions and select edit routes:\n",
    "*  Destination: 0.0.0.0/0\n",
    "*  Target: \\<IG_Name\\>"
   ],
   "metadata": {
    "collapsed": false,
    "pycharm": {
     "name": "#%% md\n"
    }
   }
  },
  {
   "cell_type": "markdown",
   "source": [
    "## Create subnet\n",
    "\n",
    "1) Navigate in left menu to `Subnets`\n",
    "\n",
    "2) Create New Subnet\n",
    "\n",
    "3) Enter:\n",
    "*   Name: <VPC_sn1>\n",
    "*   VPC: <VPC_Name>\n",
    "*   Availability Zone: No preference\n",
    "*   IPv4: 10.0.0.0/24\n",
    "\n",
    "4) Navigate to actions and select Edit Route Table Associations:\n",
    "*   Route Table ID: \\<RT_Name\\>\n",
    "\n",
    "5) Navigate to actions and select Modify auto-assign IP settings:\n",
    "*   Select auto-assign IPv4. Enable auto-assign public IPv4 address"
   ],
   "metadata": {
    "collapsed": false,
    "pycharm": {
     "name": "#%% md\n"
    }
   }
  },
  {
   "cell_type": "markdown",
   "source": [
    "## Set up Security Groups\n",
    "\n",
    "1) Navigate in left menu to `Security` -> `Security Groups`:\n",
    "\n",
    "![Nav to Security Group](../_static/images/create_SG.png)\n",
    "\n",
    "2) Fill in Security group name, description and connect it to your VPC you created before: \n",
    "\n",
    "![Create Security Group](../_static/images/create_SG_2.png)\n",
    "\n",
    "3) Navigate to Inbound Rules and Edit Rules:\n",
    "Add these rules:\n",
    "*   SSH/TCP/22/Anywhere/ 0.0.0.0/0\n",
    "\n",
    "*   HTTPS/TCP/443/Anywhere/ 0.0.0.0/0\n",
    "\n",
    "*   Custom TCP/TCP/8888/Anywhere/ 0.0.0.0/0"
   ],
   "metadata": {
    "collapsed": false
   }
  },
  {
   "cell_type": "markdown",
   "source": [
    "## Launch EC2 instance\n",
    "\n",
    "1) Navigate to EC2\n",
    "\n",
    "2) Click `Launch Instance`\n",
    "\n",
    "3) Scroll down and select UbuntuServer 18\n",
    "\n",
    "![select machine image](../_static/images/machine_image.png)\n",
    "\n",
    "4) Select t2.micro \n",
    "*   Note: You will most likely not be using t2.micros. For GPUs you will need to send a request to AWS to enable P2s for you. \n",
    "\n",
    "5) Configure Instance Details:\n",
    "\n",
    "![configure instance](../_static/images/conf_instance.png)\n",
    "\n",
    "*   Number of instances: 1\n",
    "\n",
    "*   Network: \\<VPC_Name\\>\n",
    "\n",
    "*   Subnet: \\<Subnet_Name\\>\n",
    "\n",
    "*   Auto-assign Public IP: Enable (I've had trouble with it not assigning public IPs here so automatically enable regardless of set up in Subnet. \n",
    "\n",
    "6) Add storage:\n",
    "\n",
    "*   For this tutorial leave as is\n",
    "\n",
    "7)  Configure Security Group:\n",
    "\n",
    "*   Select an existing security group\n",
    "*   Security group name: \\<SG_Name\\>\n",
    "\n",
    "8) Review and launch\n",
    "\n",
    "\n",
    "9) Create new key\n",
    "*   Download Key"
   ],
   "metadata": {
    "collapsed": false,
    "pycharm": {
     "name": "#%% md\n",
     "is_executing": false
    }
   }
  },
  {
   "cell_type": "markdown",
   "source": [
    "## Instance Spins Up\n",
    "\n",
    "While the instance is spinning up feel free to move your new key to the .ssh directory (if using Linux)\n",
    "\n",
    "`cd ~/.ssh`\n",
    "\n",
    "`mv ~/Downloads/<key_name>.pem <key_name>.pem`\n",
    "\n",
    "`chmod 400 <key_name>.pem`\n"
   ],
   "metadata": {
    "collapsed": false,
    "pycharm": {
     "name": "#%% md\n",
     "is_executing": false
    }
   }
  },
  {
   "cell_type": "markdown",
   "source": [
    "## Connect to Instance\n",
    "\n",
    "1)  Navigate to Instances and select Connect\n",
    "\n",
    "2)  Copy the provided terminal line to connect. It should look like:\n",
    "\n",
    "![connect to instance](../_static/images/connect_to_instance.png)\n",
    "\n",
    "Part intentionally blacked out for security reasons. \n",
    "\n",
    "3)  Paste into terminal with CTRL+SHIFT+C. Make sure you are still in .ssh directory. \n",
    "\n",
    "4)  Success!"
   ],
   "metadata": {
    "collapsed": false,
    "pycharm": {
     "name": "#%% md\n",
     "is_executing": false
    }
   }
  },
  {
   "cell_type": "markdown",
   "source": [
    "## Install Anaconda\n",
    "\n",
    "This section is performed in terminal.\n",
    "\n",
    "1) Ensure ec2 instance is up to date. You will typically see when logging in:\n",
    "\n",
    "![connect to instance](../_static/images/connected_to_image.png)\n",
    "\n",
    "2) In your browser navigate to: \n",
    "https://repo.continuum.io/archive\n",
    "\n",
    "3) Find the most recent Anaconda3 distro for Linux_x86_64 and copy the address of the file\n",
    "\n",
    "4) In your terminal connection to the ec2 instance type:\n",
    "`wget <Anaconda3_whatever_Linux_x86_64.sh>`\n",
    "\n",
    "5) Type: `bash <Anaconda3_whatever_Linux_x86_64.sh>`\n",
    "\n",
    "6) Hit enter multiple times and then when prompted type yes. Then hit enter to confirm location\n",
    "\n",
    "7) When prompted for prepending Anaconda3 to PATH select yes.\n",
    "\n",
    "If not prompted type `export PATH=/home/ubuntu/anaconda3/bin:$PATH` once install is completed. \n",
    "\n",
    "8) Confirm python is anaconda:\n",
    "\n",
    "`which python`"
   ],
   "metadata": {
    "collapsed": false,
    "pycharm": {
     "name": "#%% md\n",
     "is_executing": false
    }
   }
  },
  {
   "cell_type": "markdown",
   "source": [
    "## Set up Jupyter Notebook\n",
    "\n",
    "1) Type: `jupyter notebook --generate-config`\n",
    "\n",
    "\n",
    "##### Create certificates for https\n",
    "2) Type: `mkdir certs`\n",
    "\n",
    "3) Type: `cd certs`\n",
    "\n",
    "4) Type: `sudo openssl req -x509 -nodes -days 365 -newkey rsa:1024 -keyout mycert.pem -out mycert.pem`\n",
    "\n",
    "5) Type: `sudo chmod 777 mycert.pem`\n",
    "\n",
    "6) Navigate to .jupyter directory: `cd ~/.jupyter/`\n",
    "\n",
    "7) Type: `vi jupyter_notebook_config.py`\n",
    "\n",
    "8) Enter at the top: \n",
    "`c = get_config() \n",
    "c.NotebookApp.certfile = u'~/certs/mycert.pem' # Run on all IP addresses of your instance\n",
    "c.NotebookApp.ip = '*'# Don't open browser by default\n",
    "c.NotebookApp.open_browser = False  # Fix port to 8888\n",
    "c.NotebookApp.port = 8888`\n",
    "\n",
    "8) Exit vi: `esc` and `wq`\n",
    "\n",
    "9) Create dir for notebooks: \n",
    "`cd ~`\n",
    "`mkdir nbs`\n",
    "\n",
    "10) Launch a notebook: `jupyter notebook`\n",
    "\n",
    "11) Copy the location of your notebook: `https://<ip_address>:8888/?token=sometoken`"
   ],
   "metadata": {
    "collapsed": false,
    "pycharm": {
     "name": "#%% md\n",
     "is_executing": false
    }
   }
  },
  {
   "cell_type": "markdown",
   "source": [
    "## Launch notebook\n",
    "\n",
    "1) Navigate to Instances and locate your Public IP or DNS address. \n",
    "\n",
    "2) Copy into your browser the location from above and replace the IP address with the public IP address. \n",
    "\n",
    "3) Success!"
   ],
   "metadata": {
    "collapsed": false,
    "pycharm": {
     "name": "#%% md\n",
     "is_executing": false
    }
   }
  },
  {
   "cell_type": "markdown",
   "source": [
    "## Shut down your notebook!\n",
    "\n",
    "1) Select your instance, select actions, instance state, and select stop. \n",
    "\n",
    "\n",
    "Congrats. You now have the knowledge to host a Jupyter Notebook on an ec2 instance. This will save you significant money from using SageMaker."
   ],
   "metadata": {
    "collapsed": false,
    "pycharm": {
     "name": "#%% md\n",
     "is_executing": false
    }
   }
  }
 ],
 "metadata": {
  "kernelspec": {
   "display_name": "Python 3",
   "language": "python",
   "name": "python3"
  },
  "language_info": {
   "codemirror_mode": {
    "name": "ipython",
    "version": 2
   },
   "file_extension": ".py",
   "mimetype": "text/x-python",
   "name": "python",
   "nbconvert_exporter": "python",
   "pygments_lexer": "ipython2",
   "version": "2.7.6"
  },
  "pycharm": {
   "stem_cell": {
    "cell_type": "raw",
    "source": [],
    "metadata": {
     "collapsed": false
    }
   }
  }
 },
 "nbformat": 4,
 "nbformat_minor": 0
}
{
 "cells": [
  {
   "cell_type": "markdown",
   "source": [
    ".. _AWS Connect:"
   ],
   "metadata": {
    "collapsed": false
   }
  },
  {
   "cell_type": "markdown",
   "source": [
    "AWS Connect\n",
    "--------------\n"
   ],
   "metadata": {
    "collapsed": false
   }
  },
  {
   "cell_type": "markdown",
   "source": [
    "Initial steps to set up a Jupyter notebook using AWS. \n"
   ],
   "metadata": {
    "collapsed": false
   }
  },
  {
   "cell_type": "markdown",
   "source": [
    "## Create VPC for your notebooks\n",
    "\n",
    "1) Navigate to VPC in dashboard: \n",
    "*   You can search for VPC or find it under Networking & Content Delivery\n",
    "\n",
    "2) This brings you to VPC Dashboard: \n",
    "\n",
    "![VPC Dashboard](../_static/images/vpc_dashboard.png)\n",
    "\n",
    "3) Click `Your VPCs` and then `Create VPC`. \n",
    "\n",
    "4) In `Create VPC` you will need to fill in: \n",
    "\n",
    "![Create VPC](../_static/images/create_vpc.png)\n",
    "\n",
    "Name: awsFromScratch\n",
    "\n",
    "IPv4: 10.0.0.0/24\n",
    "\n",
    "IPv6: None\n",
    "\n",
    "Tenancy: Default\n"
   ],
   "metadata": {
    "collapsed": false
   }
  },
  {
   "cell_type": "markdown",
   "source": [
    "## Create Internet Gateway\n",
    "\n",
    "1) Navigate in left menu to `Internet Gateways`\n",
    "\n",
    "2) Create Internet Gateway\n",
    "\n",
    "3) Enter:\n",
    "*   Name: <IG_Name>\n",
    "\n",
    "4)  Navigate to actions:\n",
    "*   Attach to VPC: <VPC_Name>"
   ],
   "metadata": {
    "collapsed": false,
    "pycharm": {
     "name": "#%% md\n"
    }
   }
  },
  {
   "cell_type": "markdown",
   "source": [
    "## Create Routing Table\n",
    "\n",
    "1) Navigate in left menu to `Route Tables`\n",
    "\n",
    "2) Create route table\n",
    "\n",
    "3) Enter:\n",
    "*   Name: <RT_Name>\n",
    "*   VPC: Attach <VPC_Name>\n",
    "\n",
    "4) Navigate to actions and select edit routes:\n",
    "*  Destination: 0.0.0.0/0\n",
    "*  Target: <IG_Name>"
   ],
   "metadata": {
    "collapsed": false,
    "pycharm": {
     "name": "#%% md\n"
    }
   }
  },
  {
   "cell_type": "markdown",
   "source": [
    "## Set up Security Groups\n",
    "\n",
    "1) Navigate in left menu to `Security` -> `Security Groups`:\n",
    "\n",
    "![Nav to Security Group](../_static/images/create_SG.png)\n",
    "\n",
    "2) Fill in Security group name, description and connect it to your VPC you created before: \n",
    "\n",
    "![Create Security Group](../_static/images/create_SG_2.png)"
   ],
   "metadata": {
    "collapsed": false
   }
  },
  {
   "cell_type": "markdown",
   "source": [
    "## Update rules\n",
    "\n",
    "1) In `Security Groups` dashboard, select your newly minted security group and click `Actions` then select `Edit InboundRules`.\n",
    "\n",
    "2) Select Add Rule and input:\n",
    "![Create Security Group](../_static/images/edit_inbound_rules.png)\n",
    "\n",
    "*   Note: ssh is so you can log in to instance via terminal. \n",
    "          custom TCP is so jupyter notebook can connect via browser. \n",
    "\n",
    "3) Click `Save Rules`.\n"
   ],
   "metadata": {
    "collapsed": false
   }
  },
  {
   "cell_type": "markdown",
   "source": [
    "## Create subnet\n",
    "\n",
    "1) \n"
   ],
   "metadata": {
    "collapsed": false,
    "pycharm": {
     "name": "#%% md\n"
    }
   }
  },
  {
   "cell_type": "markdown",
   "source": [
    "## Allocate an elastic IP\n",
    "\n",
    "1) \n",
    "\n"
   ],
   "metadata": {
    "collapsed": false,
    "pycharm": {
     "name": "#%% md\n"
    }
   }
  },
  {
   "cell_type": "code",
   "execution_count": 0,
   "outputs": [],
   "source": [
    "\n"
   ],
   "metadata": {
    "collapsed": false,
    "pycharm": {
     "name": "#%%\n",
     "is_executing": false
    }
   }
  },
  {
   "cell_type": "code",
   "execution_count": 0,
   "outputs": [],
   "source": [],
   "metadata": {
    "collapsed": false,
    "pycharm": {
     "name": "#%%\n",
     "is_executing": false
    }
   }
  },
  {
   "cell_type": "code",
   "execution_count": 0,
   "outputs": [],
   "source": [],
   "metadata": {
    "collapsed": false,
    "pycharm": {
     "name": "#%%\n",
     "is_executing": false
    }
   }
  },
  {
   "cell_type": "code",
   "execution_count": 0,
   "outputs": [],
   "source": [],
   "metadata": {
    "collapsed": false,
    "pycharm": {
     "name": "#%%\n",
     "is_executing": false
    }
   }
  },
  {
   "cell_type": "code",
   "execution_count": 0,
   "outputs": [],
   "source": [],
   "metadata": {
    "collapsed": false,
    "pycharm": {
     "name": "#%%\n",
     "is_executing": false
    }
   }
  },
  {
   "cell_type": "code",
   "execution_count": 0,
   "outputs": [],
   "source": [
    "\n"
   ],
   "metadata": {
    "collapsed": false,
    "pycharm": {
     "name": "#%%\n",
     "is_executing": false
    }
   }
  },
  {
   "cell_type": "code",
   "execution_count": 0,
   "outputs": [],
   "source": [],
   "metadata": {
    "collapsed": false,
    "pycharm": {
     "name": "#%%\n",
     "is_executing": false
    }
   }
  },
  {
   "cell_type": "code",
   "execution_count": 0,
   "outputs": [],
   "source": [],
   "metadata": {
    "collapsed": false,
    "pycharm": {
     "name": "#%%\n",
     "is_executing": false
    }
   }
  },
  {
   "cell_type": "code",
   "execution_count": 0,
   "outputs": [],
   "source": [],
   "metadata": {
    "collapsed": false,
    "pycharm": {
     "name": "#%%\n",
     "is_executing": false
    }
   }
  },
  {
   "cell_type": "code",
   "execution_count": 0,
   "outputs": [],
   "source": [
    "\n"
   ],
   "metadata": {
    "collapsed": false,
    "pycharm": {
     "name": "#%%\n",
     "is_executing": false
    }
   }
  }
 ],
 "metadata": {
  "kernelspec": {
   "display_name": "Python 3",
   "language": "python",
   "name": "python3"
  },
  "language_info": {
   "codemirror_mode": {
    "name": "ipython",
    "version": 2
   },
   "file_extension": ".py",
   "mimetype": "text/x-python",
   "name": "python",
   "nbconvert_exporter": "python",
   "pygments_lexer": "ipython2",
   "version": "2.7.6"
  },
  "pycharm": {
   "stem_cell": {
    "cell_type": "raw",
    "source": [],
    "metadata": {
     "collapsed": false
    }
   }
  }
 },
 "nbformat": 4,
 "nbformat_minor": 0
}